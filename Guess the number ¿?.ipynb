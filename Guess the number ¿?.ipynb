{
 "cells": [
  {
   "cell_type": "code",
   "execution_count": null,
   "metadata": {},
   "outputs": [],
   "source": [
    "import random\n",
    "\n",
    "#Lista de rangos\n",
    "lista=[i for i in range(0,100)]\n",
    "#La CPU elige un valor\n",
    "cpu_choose=random.choice(lista)\n",
    "#cpu_choose"
   ]
  },
  {
   "cell_type": "code",
   "execution_count": null,
   "metadata": {},
   "outputs": [],
   "source": [
    "user_choice=int(input(\"Elige un número entre 1 y 100: \"))\n",
    "while user_choice >100:\n",
    "    user_choice=int(input(\"Es un número muy grande. Elige entre 1 y 100: \"))\n",
    "while user_choice <=0:\n",
    "    user_choice=int(input(\"No puede ser menor a 0. Elige entre 1 y 100: \"))"
   ]
  }
 ],
 "metadata": {
  "kernelspec": {
   "display_name": "Python 3",
   "language": "python",
   "name": "python3"
  },
  "language_info": {
   "codemirror_mode": {
    "name": "ipython",
    "version": 3
   },
   "file_extension": ".py",
   "mimetype": "text/x-python",
   "name": "python",
   "nbconvert_exporter": "python",
   "pygments_lexer": "ipython3",
   "version": "3.8.3"
  }
 },
 "nbformat": 4,
 "nbformat_minor": 4
}
