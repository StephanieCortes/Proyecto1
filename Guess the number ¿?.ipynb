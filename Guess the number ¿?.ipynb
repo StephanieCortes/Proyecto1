{
 "cells": [
  {
   "cell_type": "code",
   "execution_count": 1,
   "metadata": {},
   "outputs": [
    {
     "data": {
      "text/plain": [
       "22"
      ]
     },
     "execution_count": 1,
     "metadata": {},
     "output_type": "execute_result"
    }
   ],
   "source": [
    "import random\n",
    "\n",
    "#Lista de rangos\n",
    "lista=[i for i in range(0,100)]\n",
    "#La CPU elige un valor\n",
    "cpu_choose=random.choice(lista)\n",
    "cpu_choose"
   ]
  },
  {
   "cell_type": "code",
   "execution_count": 2,
   "metadata": {},
   "outputs": [
    {
     "name": "stdout",
     "output_type": "stream",
     "text": [
      "Elige un número entre 1 y 100: 22\n"
     ]
    }
   ],
   "source": [
    "user_choice=int(input(\"Elige un número entre 1 y 100: \"))\n",
    "while user_choice >100:\n",
    "    user_choice=int(input(\"Es un número muy grande. Elige entre 1 y 100: \"))\n",
    "while user_choice <=0:\n",
    "    user_choice=int(input(\"No puede ser menor a 0. Elige entre 1 y 100: \"))\n",
    "    "
   ]
  },
  {
   "cell_type": "code",
   "execution_count": 3,
   "metadata": {},
   "outputs": [
    {
     "name": "stdout",
     "output_type": "stream",
     "text": [
      "Bien hecho\n"
     ]
    }
   ],
   "source": [
    "n_rounds=4\n",
    "rounds=0\n",
    "\n",
    "while rounds <= n_rounds:\n",
    "    if cpu_choose == user_choice:\n",
    "        print ('Bien hecho')\n",
    "        break\n",
    "    elif cpu_choose != user_choice:\n",
    "        if cpu_choose < user_choice:\n",
    "            rounds +=1\n",
    "            print(\"No es:\", user_choice)\n",
    "            user_choice=int(input(\"Te quedan 4 oportunidades. Elige un número menor: \"))\n",
    "        elif cpu_choose > user_choice:\n",
    "            rounds +=1\n",
    "            print(\"No es:\", user_choice)\n",
    "            user_choice=int(input(\"Te quedan 4 oportunidades. Elige un numero mayor: \"))\n"
   ]
  },
  {
   "cell_type": "code",
   "execution_count": null,
   "metadata": {},
   "outputs": [],
   "source": []
  }
 ],
 "metadata": {
  "kernelspec": {
   "display_name": "Python 3",
   "language": "python",
   "name": "python3"
  },
  "language_info": {
   "codemirror_mode": {
    "name": "ipython",
    "version": 3
   },
   "file_extension": ".py",
   "mimetype": "text/x-python",
   "name": "python",
   "nbconvert_exporter": "python",
   "pygments_lexer": "ipython3",
   "version": "3.8.2"
  }
 },
 "nbformat": 4,
 "nbformat_minor": 4
}
